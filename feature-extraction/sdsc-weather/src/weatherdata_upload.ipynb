{
 "cells": [
  {
   "cell_type": "code",
   "execution_count": 1,
   "metadata": {},
   "outputs": [],
   "source": [
    "\"\"\"upload local data storing in the weather.txt to the google sheet\"\"\"\n",
    "import os\n",
    "import sys\n",
    "#import urllib.request\n",
    "import requests\n",
    "import urllib3 \n",
    "import numpy as np\n",
    "import threading\n",
    "import pandas as pd\n",
    "import json\n",
    "from json import dumps\n",
    "import gspread\n",
    "from oauth2client.service_account import ServiceAccountCredentials\n",
    "\n"
   ]
  },
  {
   "cell_type": "code",
   "execution_count": 2,
   "metadata": {},
   "outputs": [
    {
     "name": "stdout",
     "output_type": "stream",
     "text": [
      "put data into Google Sheet\n"
     ]
    }
   ],
   "source": [
    "  # Put in code to upload to Google Sheets\n",
    "scope = [\"https://www.googleapis.com/auth/drive\"]\n",
    "\n",
    "creds = ServiceAccountCredentials.from_json_keyfile_name('test.json', scope)\n",
    "client = gspread.authorize(creds)\n",
    "\n",
    "sheet = client.open(\"test_sdsc\").sheet1 # open sheet\n",
    "data = pd.read_table('~/CSE193/Data_Folder/weather_4_12.txt',delimiter=',',header=None)\n",
    "data = list(data.values.flatten())\n",
    "\n",
    "cell_list = sheet.range('A1:L7159') \n",
    "i=0\n",
    "for cell in cell_list:\n",
    "    cell.value = data[i]\n",
    "    i+=1\n",
    "sheet.update_cells(cell_list)\n",
    "print('put data into Google Sheet')\n",
    "# Update most recently read data\n",
    "                \n"
   ]
  },
  {
   "cell_type": "code",
   "execution_count": null,
   "metadata": {},
   "outputs": [],
   "source": [
    "\n"
   ]
  },
  {
   "cell_type": "code",
   "execution_count": null,
   "metadata": {},
   "outputs": [],
   "source": []
  },
  {
   "cell_type": "code",
   "execution_count": null,
   "metadata": {},
   "outputs": [],
   "source": []
  },
  {
   "cell_type": "code",
   "execution_count": null,
   "metadata": {},
   "outputs": [],
   "source": []
  },
  {
   "cell_type": "code",
   "execution_count": null,
   "metadata": {},
   "outputs": [],
   "source": []
  },
  {
   "cell_type": "code",
   "execution_count": null,
   "metadata": {},
   "outputs": [],
   "source": []
  },
  {
   "cell_type": "code",
   "execution_count": null,
   "metadata": {},
   "outputs": [],
   "source": []
  }
 ],
 "metadata": {
  "kernelspec": {
   "display_name": "Python 2",
   "language": "python",
   "name": "python2"
  },
  "language_info": {
   "codemirror_mode": {
    "name": "ipython",
    "version": 2
   },
   "file_extension": ".py",
   "mimetype": "text/x-python",
   "name": "python",
   "nbconvert_exporter": "python",
   "pygments_lexer": "ipython2",
   "version": "2.7.15"
  }
 },
 "nbformat": 4,
 "nbformat_minor": 2
}
